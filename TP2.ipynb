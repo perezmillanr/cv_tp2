{
 "cells": [
  {
   "cell_type": "code",
   "execution_count": 2,
   "metadata": {},
   "outputs": [],
   "source": [
    "def create_gauss_filter(h, w, k_size, sigma):\n",
    "    foo()"
   ]
  },
  {
   "cell_type": "markdown",
   "metadata": {},
   "source": [
    "Implementar la función create_gauss_filter(h, w, k_size, sigma) para crear filtros gaussianos para\n",
    "filtrado espectral. Debe retornar un filtro gaussiano de tamaño HxW en dominio espacial y su transformada\n",
    "de Fourier.\n",
    "1. Graficar ambas representaciones para diferentes tamaños de kernel y sigma. Aplicar el filtro una\n",
    "imagen para validar el funcionamiento en el dominio espectral.\n",
    "2. Usando el método descripto en el paper “Image Sharpness Measure for Blurred Images in Frequency\n",
    "Domain” comparar el resultado de un filtrado por convolución con el filtrado espectral.\n",
    "3. Repetir la comparación usando uno de los métodos descriptos en el apéndice del paper “Analysis of\n",
    "focus measure operators in shape-from-focus”"
   ]
  }
 ],
 "metadata": {
  "kernelspec": {
   "display_name": "Python 3",
   "language": "python",
   "name": "python3"
  },
  "language_info": {
   "codemirror_mode": {
    "name": "ipython",
    "version": 3
   },
   "file_extension": ".py",
   "mimetype": "text/x-python",
   "name": "python",
   "nbconvert_exporter": "python",
   "pygments_lexer": "ipython3",
   "version": "3.11.3"
  },
  "orig_nbformat": 4
 },
 "nbformat": 4,
 "nbformat_minor": 2
}
